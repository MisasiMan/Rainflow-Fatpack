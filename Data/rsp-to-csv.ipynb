{
 "cells": [
  {
   "cell_type": "code",
   "execution_count": 2,
   "metadata": {},
   "outputs": [
    {
     "name": "stdout",
     "output_type": "stream",
     "text": [
      "b'FORMAT\\x00\\x00\\x00\\x00\\x00\\x00\\x00\\x00\\x00\\x00\\x00\\x00\\x00\\x00\\x00\\x00\\x00\\x00\\x00\\x00\\x00\\x00\\x00\\x00\\x00\\x00BINARY\\x00\\x00\\x00\\x00\\x00\\x00\\x00\\x00\\x00\\x00\\x00\\x00\\x00\\x00\\x00\\x00\\x00\\x00\\x00\\x00\\x00\\x00\\x00\\x00\\x00\\x00\\x00\\x00\\x00\\x00\\x00\\x00\\x00\\x00\\x00\\x00\\x00\\x00\\x00\\x00\\x00\\x00\\x00\\x00\\x00\\x00\\x00\\x00\\x00\\x00\\x00\\x00\\x00\\x00\\x00\\x00\\x00\\x00\\x00\\x00\\x00\\x00\\x00\\x00\\x00\\x00\\x00\\x00\\x00\\x00\\x00\\x00\\x00\\x00\\x00\\x00\\x00\\x00\\x00\\x00\\x00\\x00\\x00\\x00\\x00\\x00\\x00\\x00\\x00\\x00NUM_HEADER_BLOCKS\\x00\\x00\\x00\\x00\\x00\\x00\\x00\\x00\\x00\\x00\\x00\\x00\\x00\\x00\\x0010\\x00\\x00\\x00\\x00\\x00\\x00\\x00\\x00\\x00\\x00\\x00\\x00\\x00\\x00\\x00\\x00\\x00\\x00\\x00\\x00\\x00\\x00\\x00\\x00\\x00\\x00\\x00\\x00\\x00\\x00\\x00\\x00\\x00\\x00\\x00\\x00\\x00\\x00'\n"
     ]
    }
   ],
   "source": [
    "# -*- coding: utf-8 -*-\n",
    "import numpy as np\n",
    "import pandas as pd\n",
    "import rainflow\n",
    "import fatpack \n",
    "from math import sin, cos\n",
    "import os \n",
    "import sys\n",
    "import matplotlib.pyplot as plt\n",
    "import struct\n",
    "\n",
    "\n",
    "# Definir la ruta del archivo binario *.rsp\n",
    "file_path = '0865-23_ewpi_hp2Hz_cut_k27-HA-YHO-Fz_+47N.rsp'\n",
    "\n",
    "# Abrir el archivo binario en modo de lectura binaria ('rb')\n",
    "with open(file_path, 'rb') as file:\n",
    "    # Leer todo el contenido del archivo\n",
    "    binary_data = file.read()\n",
    "    data_array = np.fromfile(file, np.int16)  # Corrección aquí\n",
    "\n",
    "# Imprimir los primeros 100 bytes para inspeccionar la estructura inicial\n",
    "print(binary_data[:200])\n"
   ]
  },
  {
   "cell_type": "code",
   "execution_count": 3,
   "metadata": {},
   "outputs": [],
   "source": [
    "import struct\n",
    "\n",
    "data = []\n",
    "\n",
    "# Especifica el nombre de tu archivo binario\n",
    "archivo_binario = '0865-23_ewpi_hp2Hz_cut_k27-HA-YHO-Fz_+47N.rsp'\n",
    "\n",
    "with open(archivo_binario, \"rb\") as f:\n",
    "    while True:\n",
    "        # Lee 4 bytes (un float) del archivo\n",
    "        chunk = f.read(4)\n",
    "        if not chunk:\n",
    "            break\n",
    "        data.append(struct.unpack('f', chunk)[0])\n",
    "import csv\n",
    "\n",
    "# Especifica el nombre del archivo CSV de salida\n",
    "archivo_csv = '0865-23_ewpi_hp2Hz_cut_k27-HA-YHO-Fz_+47N.csv'\n",
    "\n",
    "# Escribe los datos en el archivo CSV\n",
    "with open(archivo_csv, 'w', newline='') as csvfile:\n",
    "    writer = csv.writer(csvfile)\n",
    "    writer.writerow(['Valor'])  # Encabezado opcional\n",
    "    for valor in data:\n",
    "        writer.writerow([valor])\n"
   ]
  },
  {
   "cell_type": "code",
   "execution_count": 6,
   "metadata": {},
   "outputs": [
    {
     "name": "stdout",
     "output_type": "stream",
     "text": [
      "\n",
      "Archivo a cargar: c:\\Users\\misasi.LEANET\\Desktop\\Rainflow - fatpack\\Data\\0865-23_ewpi_hp2Hz_cut_k27-HA-YHO-Fz_+47N.csv\n",
      "\n",
      "Primeros 20 registros:\n",
      "           Valor\n",
      "0   2.205257e+08\n",
      "1   3.022461e-41\n",
      "2   0.000000e+00\n",
      "3   0.000000e+00\n",
      "4   0.000000e+00\n",
      "5   0.000000e+00\n",
      "6   0.000000e+00\n",
      "7   0.000000e+00\n",
      "8   1.289289e+01\n",
      "9   3.204209e-41\n",
      "10  0.000000e+00\n",
      "11  0.000000e+00\n",
      "12  0.000000e+00\n",
      "13  0.000000e+00\n",
      "14  0.000000e+00\n",
      "15  0.000000e+00\n",
      "16  0.000000e+00\n",
      "17  0.000000e+00\n",
      "18  0.000000e+00\n",
      "19  0.000000e+00\n"
     ]
    },
    {
     "ename": "IndexError",
     "evalue": "index -2 is out of bounds for axis 0 with size 1",
     "output_type": "error",
     "traceback": [
      "\u001b[1;31m---------------------------------------------------------------------------\u001b[0m",
      "\u001b[1;31mIndexError\u001b[0m                                Traceback (most recent call last)",
      "Cell \u001b[1;32mIn[6], line 18\u001b[0m\n\u001b[0;32m     15\u001b[0m     y \u001b[38;5;241m=\u001b[39m df\u001b[38;5;241m.\u001b[39miloc[:, \u001b[38;5;241m0\u001b[39m]\u001b[38;5;241m.\u001b[39mvalues  \u001b[38;5;66;03m# Seleccionar la primera columna y convertirla en un arreglo de NumPy\u001b[39;00m\n\u001b[0;32m     17\u001b[0m     \u001b[38;5;66;03m# Calcular las amplitudes y las medias de los rangos de Rainflow\u001b[39;00m\n\u001b[1;32m---> 18\u001b[0m     S, Sm \u001b[38;5;241m=\u001b[39m fatpack\u001b[38;5;241m.\u001b[39mfind_rainflow_ranges(y, return_means\u001b[38;5;241m=\u001b[39m\u001b[38;5;28;01mTrue\u001b[39;00m, k\u001b[38;5;241m=\u001b[39m\u001b[38;5;241m256\u001b[39m)\n\u001b[0;32m     19\u001b[0m \u001b[38;5;28;01mexcept\u001b[39;00m \u001b[38;5;167;01mFileNotFoundError\u001b[39;00m:\n\u001b[0;32m     20\u001b[0m     \u001b[38;5;28mprint\u001b[39m(\u001b[38;5;124mf\u001b[39m\u001b[38;5;124m\"\u001b[39m\u001b[38;5;124mError: No se encontró el archivo \u001b[39m\u001b[38;5;132;01m{\u001b[39;00mcsv_file\u001b[38;5;132;01m}\u001b[39;00m\u001b[38;5;124m\"\u001b[39m)\n",
      "File \u001b[1;32mc:\\Users\\misasi.LEANET\\AppData\\Local\\anaconda3\\envs\\proj\\Lib\\site-packages\\fatpack\\rainflow.py:483\u001b[0m, in \u001b[0;36mfind_rainflow_ranges\u001b[1;34m(y, k, return_means)\u001b[0m\n\u001b[0;32m    435\u001b[0m \u001b[38;5;28;01mdef\u001b[39;00m \u001b[38;5;21mfind_rainflow_ranges\u001b[39m(y, k\u001b[38;5;241m=\u001b[39m\u001b[38;5;241m64\u001b[39m, return_means\u001b[38;5;241m=\u001b[39m\u001b[38;5;28;01mFalse\u001b[39;00m):\n\u001b[0;32m    436\u001b[0m \u001b[38;5;250m    \u001b[39m\u001b[38;5;124;03m\"\"\"Returns the ranges of the complete series (incl. residue)\u001b[39;00m\n\u001b[0;32m    437\u001b[0m \n\u001b[0;32m    438\u001b[0m \u001b[38;5;124;03m    Returns the ranges by first determining the reversals of the dataseries\u001b[39;00m\n\u001b[1;32m   (...)\u001b[0m\n\u001b[0;32m    480\u001b[0m \n\u001b[0;32m    481\u001b[0m \u001b[38;5;124;03m    \"\"\"\u001b[39;00m\n\u001b[1;32m--> 483\u001b[0m     reversals, _ \u001b[38;5;241m=\u001b[39m find_reversals(y, k)\n\u001b[0;32m    484\u001b[0m     cycles_firstpass, residue \u001b[38;5;241m=\u001b[39m find_rainflow_cycles(reversals)\n\u001b[0;32m    485\u001b[0m     processed_residue \u001b[38;5;241m=\u001b[39m concatenate_reversals(residue, residue)\n",
      "File \u001b[1;32mc:\\Users\\misasi.LEANET\\AppData\\Local\\anaconda3\\envs\\proj\\Lib\\site-packages\\fatpack\\rainflow.py:185\u001b[0m, in \u001b[0;36mfind_reversals\u001b[1;34m(y, k)\u001b[0m\n\u001b[0;32m    183\u001b[0m revix \u001b[38;5;241m=\u001b[39m ix[np\u001b[38;5;241m.\u001b[39margwhere(dz \u001b[38;5;241m<\u001b[39m \u001b[38;5;241m0.\u001b[39m)\u001b[38;5;241m.\u001b[39mravel()\u001b[38;5;241m+\u001b[39m\u001b[38;5;241m1\u001b[39m]\n\u001b[0;32m    184\u001b[0m revix \u001b[38;5;241m=\u001b[39m np\u001b[38;5;241m.\u001b[39minsert(revix, (\u001b[38;5;241m0\u001b[39m), ix[\u001b[38;5;241m0\u001b[39m])\n\u001b[1;32m--> 185\u001b[0m \u001b[38;5;28;01mif\u001b[39;00m (z[revix[\u001b[38;5;241m-\u001b[39m\u001b[38;5;241m1\u001b[39m]] \u001b[38;5;241m-\u001b[39m z[revix[\u001b[38;5;241m-\u001b[39m\u001b[38;5;241m2\u001b[39m]])\u001b[38;5;241m*\u001b[39m(z[ix[\u001b[38;5;241m-\u001b[39m\u001b[38;5;241m1\u001b[39m]] \u001b[38;5;241m-\u001b[39m z[revix[\u001b[38;5;241m-\u001b[39m\u001b[38;5;241m1\u001b[39m]]) \u001b[38;5;241m<\u001b[39m \u001b[38;5;241m0.\u001b[39m:\n\u001b[0;32m    186\u001b[0m     revix \u001b[38;5;241m=\u001b[39m np\u001b[38;5;241m.\u001b[39mappend(revix, ix[\u001b[38;5;241m-\u001b[39m\u001b[38;5;241m1\u001b[39m])\n\u001b[0;32m    187\u001b[0m \u001b[38;5;28;01mreturn\u001b[39;00m z[revix], np\u001b[38;5;241m.\u001b[39marray(revix)\n",
      "\u001b[1;31mIndexError\u001b[0m: index -2 is out of bounds for axis 0 with size 1"
     ]
    }
   ],
   "source": [
    "# Obtener la ruta del directorio actual\n",
    "current_directory = os.getcwd()\n",
    "csv_file = '0865-23_ewpi_hp2Hz_cut_k27-HA-YHO-Fz_+47N.csv'\n",
    "file_path = os.path.join(current_directory, csv_file)\n",
    "print(f\"\\nArchivo a cargar: {file_path}\")\n",
    "try:\n",
    "    # Cargar el archivo CSV\n",
    "    df = pd.read_csv(file_path)\n",
    "\n",
    "    # Mostrar los primeros 20 registros\n",
    "    print(\"\\nPrimeros 20 registros:\")\n",
    "    print(df.head(20))\n",
    "\n",
    "    # Cargar la señal desde el archivo CSV utilizando NumPy\n",
    "    y = df.iloc[:, 0].values  # Seleccionar la primera columna y convertirla en un arreglo de NumPy\n",
    "\n",
    "    # Calcular las amplitudes y las medias de los rangos de Rainflow\n",
    "    S, Sm = fatpack.find_rainflow_ranges(y, return_means=True, k=256)\n",
    "except FileNotFoundError:\n",
    "    print(f\"Error: No se encontró el archivo {csv_file}\")\n",
    "\n",
    "# Crear un rango de tiempo basado en el número de puntos en la señal\n",
    "time = range(len(y))\n",
    "# Crear la figura y los ejes\n",
    "plt.figure(figsize=(10, 6))\n",
    "# Graficar la señal\n",
    "plt.plot(time, y, label='Señal', color='blue')\n",
    "# Configurar título y etiquetas de los ejes\n",
    "plt.title('Señal desde CSV')\n",
    "plt.xlabel('Tiempo')\n",
    "plt.ylabel('Amplitud')\n",
    "# Mostrar leyenda\n",
    "plt.legend()\n",
    "# Mostrar la gráfica\n",
    "plt.grid(True)\n",
    "plt.show()\n"
   ]
  }
 ],
 "metadata": {
  "kernelspec": {
   "display_name": "proj",
   "language": "python",
   "name": "python3"
  },
  "language_info": {
   "codemirror_mode": {
    "name": "ipython",
    "version": 3
   },
   "file_extension": ".py",
   "mimetype": "text/x-python",
   "name": "python",
   "nbconvert_exporter": "python",
   "pygments_lexer": "ipython3",
   "version": "3.11.7"
  }
 },
 "nbformat": 4,
 "nbformat_minor": 2
}
